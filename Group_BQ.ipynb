{
  "nbformat": 4,
  "nbformat_minor": 0,
  "metadata": {
    "colab": {
      "provenance": [],
      "toc_visible": true
    },
    "kernelspec": {
      "name": "python3",
      "display_name": "Python 3"
    },
    "language_info": {
      "name": "python"
    },
    "widgets": {
      "application/vnd.jupyter.widget-state+json": {
        "463a9987f68e461eae2cf56b933d70b3": {
          "model_module": "keplergl-jupyter",
          "model_name": "KeplerGlModal",
          "model_module_version": "^0.3.2",
          "state": {
            "_dom_classes": [],
            "_model_module": "keplergl-jupyter",
            "_model_module_version": "^0.3.2",
            "_model_name": "KeplerGlModal",
            "_view_count": null,
            "_view_module": "keplergl-jupyter",
            "_view_module_version": "^0.3.2",
            "_view_name": "KeplerGlView",
            "config": {},
            "data": {
              "Healthcare Facilities": {
                "index": [
                  0,
                  1,
                  2
                ],
                "columns": [
                  "LATITUDE",
                  "LONGITUDE",
                  "CAPACITY",
                  "FAC_TYPE_CODE_Type1",
                  "FAC_TYPE_CODE_Type2"
                ],
                "data": [
                  [
                    37.7749,
                    -122.4194,
                    100,
                    1,
                    0
                  ],
                  [
                    37.7849,
                    -122.4094,
                    150,
                    0,
                    1
                  ],
                  [
                    37.7949,
                    -122.3994,
                    200,
                    1,
                    0
                  ]
                ]
              }
            },
            "height": 800,
            "layout": "IPY_MODEL_ba8ff4e096124d479dfef8ef6cbbc0b0",
            "value": "Hello World!"
          }
        }
      }
    }
  },
  "cells": [
    {
      "cell_type": "markdown",
      "source": [
        "Step 1: Data Preparation\n",
        "1a) Data Collection"
      ],
      "metadata": {
        "id": "32hlmZF9NziO"
      }
    },
    {
      "cell_type": "code",
      "source": [
        "import numpy as np\n",
        "import pandas as pd\n"
      ],
      "metadata": {
        "id": "Y7cZJ3gAJOCp"
      },
      "execution_count": 60,
      "outputs": []
    },
    {
      "cell_type": "code",
      "source": [
        "df = pd.read_csv('https://query.data.world/s/iwcxgny6fk3wcid33l3hskajg6cfmx?dws=00000')\n",
        "print(df.head())"
      ],
      "metadata": {
        "colab": {
          "base_uri": "https://localhost:8080/"
        },
        "id": "EjFs1NH5i1lw",
        "outputId": "c5f1d274-837b-464a-a041-a80fba7d6a8a"
      },
      "execution_count": 61,
      "outputs": [
        {
          "output_type": "stream",
          "name": "stdout",
          "text": [
            "      FACID                                       FACNAME FAC_TYPE_CODE  \\\n",
            "0  10000001                  GOLDEN LIVINGCENTER PETALUMA           SNF   \n",
            "1  10000003  CREEKSIDE REHABILITATION & BEHAVIORAL HEALTH           SNF   \n",
            "2  10000004                  LANTERN HEALTH CRESCENT CITY           SNF   \n",
            "3  10000005               WINDSOR CARE CENTER OF PETALUMA           SNF   \n",
            "4  10000020                FIRCREST CONVALESCENT HOSPITAL           SNF   \n",
            "\n",
            "                    FAC_FDR  LTC  CAPACITY           ADDRESS           CITY  \\\n",
            "0  SKILLED NURSING FACILITY  LTC        99     101 MONROE ST       PETALUMA   \n",
            "1  SKILLED NURSING FACILITY  LTC       181    850 SONOMA AVE     SANTA ROSA   \n",
            "2  SKILLED NURSING FACILITY  LTC        99  1280 MARSHALL ST  CRESCENT CITY   \n",
            "3  SKILLED NURSING FACILITY  LTC        79      523 HAYES LN       PETALUMA   \n",
            "4  SKILLED NURSING FACILITY  LTC        50   7025 CORLINE CT     SEBASTOPOL   \n",
            "\n",
            "     ZIP            FACADMIN  ...    ENTITY_TYPE_DESCRIPTION   LATITUDE  \\\n",
            "0  94954   CHOPERENA, MONICA  ...                PROFIT CORP  38.256304   \n",
            "1  95404     DURANCZYK, PAUL  ...                PROFIT CORP  38.439363   \n",
            "2  95531  CROWL, CHRISTINE M  ...  LIMITED LIABILITY COMPANY  41.768534   \n",
            "3  94952         NAIN, KABIR  ...  LIMITED LIABILITY COMPANY  38.221764   \n",
            "4  95472        TRASK, APRIL  ...                PROFIT CORP  38.389866   \n",
            "\n",
            "    LONGITUDE                  LOCATION OSHPD_NUMBER  StreetNumber  \\\n",
            "0 -122.627573  (38.256304, -122.627573)  206492251.0           101   \n",
            "1 -122.706353  (38.439363, -122.706353)  206490940.0           850   \n",
            "2 -124.200401  (41.768534, -124.200401)  206080930.0          1280   \n",
            "3 -122.647286  (38.221764, -122.647286)  206490931.0           523   \n",
            "4 -122.813782  (38.389866, -122.813782)  206490947.0          7025   \n",
            "\n",
            "    StreetName CCHLO_Code  CCLHO_Name FIPS_Couunty_Code  \n",
            "0    MONROE ST         49      SONOMA                97  \n",
            "1   SONOMA AVE         49      SONOMA                97  \n",
            "2  MARSHALL ST          8   DEL NORTE                15  \n",
            "3     HAYES LN         49      SONOMA                97  \n",
            "4   CORLINE CT         49      SONOMA                97  \n",
            "\n",
            "[5 rows x 33 columns]\n"
          ]
        }
      ]
    },
    {
      "cell_type": "markdown",
      "source": [
        "1b) Data Cleansing"
      ],
      "metadata": {
        "id": "o483bk-XO76s"
      }
    },
    {
      "cell_type": "code",
      "source": [
        "# Check for missing values\n",
        "print(df.isnull().sum())\n",
        "\n",
        "# Drop rows with missing values in critical columns\n",
        "df.dropna(subset=['LATITUDE', 'LONGITUDE', 'CAPACITY'], inplace=True)\n",
        "\n",
        "# Convert data types\n",
        "df['CAPACITY'] = df['CAPACITY'].astype(int)\n",
        "df['LATITUDE'] = df['LATITUDE'].astype(float)\n",
        "df['LONGITUDE'] = df['LONGITUDE'].astype(float)\n",
        "\n",
        "# Remove irrelevant columns\n",
        "df.drop(columns=['FACADMIN', 'CONTACT_EMAIL', 'CONTACT_FAX', 'CONTACT_PHONE_NUMBER'], inplace=True)\n",
        "\n",
        "# Display the cleaned dataset\n",
        "print(df.head())"
      ],
      "metadata": {
        "colab": {
          "base_uri": "https://localhost:8080/"
        },
        "id": "6lPuM0IDtWbU",
        "outputId": "90e7f453-9994-4dfe-eb82-02077fe1dc45"
      },
      "execution_count": 62,
      "outputs": [
        {
          "output_type": "stream",
          "name": "stdout",
          "text": [
            "FACID                         0\n",
            "FACNAME                       0\n",
            "FAC_TYPE_CODE                 0\n",
            "FAC_FDR                       0\n",
            "LTC                           0\n",
            "CAPACITY                      0\n",
            "ADDRESS                       0\n",
            "CITY                          0\n",
            "ZIP                           0\n",
            "FACADMIN                   1142\n",
            "CONTACT_EMAIL              3760\n",
            "CONTACT_FAX                1922\n",
            "CONTACT_PHONE_NUMBER        421\n",
            "COUNTY_CODE                   0\n",
            "COUNTY_NAME                   0\n",
            "DISTRICT_NUMBER               0\n",
            "DISTRICT_NAME                 0\n",
            "ISFACMAIN                     0\n",
            "LICENSE_NUMBER             1109\n",
            "BUSINESS_NAME              1344\n",
            "INITIAL_LICENSE_DATE       1852\n",
            "LICENSE_EFFECTIVE_DATE     1110\n",
            "LICENSE_EXPIRATION_DATE    9907\n",
            "ENTITY_TYPE_DESCRIPTION    1212\n",
            "LATITUDE                      8\n",
            "LONGITUDE                     8\n",
            "LOCATION                      8\n",
            "OSHPD_NUMBER               4925\n",
            "StreetNumber                  0\n",
            "StreetName                    0\n",
            "CCHLO_Code                    0\n",
            "CCLHO_Name                    0\n",
            "FIPS_Couunty_Code             0\n",
            "dtype: int64\n",
            "      FACID                                       FACNAME FAC_TYPE_CODE  \\\n",
            "0  10000001                  GOLDEN LIVINGCENTER PETALUMA           SNF   \n",
            "1  10000003  CREEKSIDE REHABILITATION & BEHAVIORAL HEALTH           SNF   \n",
            "2  10000004                  LANTERN HEALTH CRESCENT CITY           SNF   \n",
            "3  10000005               WINDSOR CARE CENTER OF PETALUMA           SNF   \n",
            "4  10000020                FIRCREST CONVALESCENT HOSPITAL           SNF   \n",
            "\n",
            "                    FAC_FDR  LTC  CAPACITY           ADDRESS           CITY  \\\n",
            "0  SKILLED NURSING FACILITY  LTC        99     101 MONROE ST       PETALUMA   \n",
            "1  SKILLED NURSING FACILITY  LTC       181    850 SONOMA AVE     SANTA ROSA   \n",
            "2  SKILLED NURSING FACILITY  LTC        99  1280 MARSHALL ST  CRESCENT CITY   \n",
            "3  SKILLED NURSING FACILITY  LTC        79      523 HAYES LN       PETALUMA   \n",
            "4  SKILLED NURSING FACILITY  LTC        50   7025 CORLINE CT     SEBASTOPOL   \n",
            "\n",
            "     ZIP  COUNTY_CODE  ...    ENTITY_TYPE_DESCRIPTION   LATITUDE   LONGITUDE  \\\n",
            "0  94954          590  ...                PROFIT CORP  38.256304 -122.627573   \n",
            "1  95404          590  ...                PROFIT CORP  38.439363 -122.706353   \n",
            "2  95531           70  ...  LIMITED LIABILITY COMPANY  41.768534 -124.200401   \n",
            "3  94952          590  ...  LIMITED LIABILITY COMPANY  38.221764 -122.647286   \n",
            "4  95472          590  ...                PROFIT CORP  38.389866 -122.813782   \n",
            "\n",
            "                   LOCATION  OSHPD_NUMBER StreetNumber   StreetName  \\\n",
            "0  (38.256304, -122.627573)   206492251.0          101    MONROE ST   \n",
            "1  (38.439363, -122.706353)   206490940.0          850   SONOMA AVE   \n",
            "2  (41.768534, -124.200401)   206080930.0         1280  MARSHALL ST   \n",
            "3  (38.221764, -122.647286)   206490931.0          523     HAYES LN   \n",
            "4  (38.389866, -122.813782)   206490947.0         7025   CORLINE CT   \n",
            "\n",
            "  CCHLO_Code  CCLHO_Name FIPS_Couunty_Code  \n",
            "0         49      SONOMA                97  \n",
            "1         49      SONOMA                97  \n",
            "2          8   DEL NORTE                15  \n",
            "3         49      SONOMA                97  \n",
            "4         49      SONOMA                97  \n",
            "\n",
            "[5 rows x 29 columns]\n"
          ]
        }
      ]
    },
    {
      "cell_type": "markdown",
      "source": [
        "1c) Feature Engineering"
      ],
      "metadata": {
        "id": "3he-TQtTPJ0P"
      }
    },
    {
      "cell_type": "code",
      "source": [
        "from scipy.spatial import distance_matrix\n",
        "\n",
        "# Sample DataFrame creation (for demonstration purposes)\n",
        "# Replace this with your actual DataFrame\n",
        "data = {\n",
        "    'LATITUDE': [37.7749, 37.7849, 37.7949],\n",
        "    'LONGITUDE': [-122.4194, -122.4094, -122.3994],\n",
        "    'COUNTY_NAME': ['San Francisco', 'San Francisco', 'San Mateo'],\n",
        "    'CAPACITY': [100, 150, 200],\n",
        "    'FAC_TYPE_CODE': ['Type1', 'Type2', 'Type1']\n",
        "}\n",
        "df = pd.DataFrame(data)\n",
        "\n",
        "# 1. Calculate the Euclidean distance to San Francisco\n",
        "sf_lat, sf_lon = 37.7749, -122.4194\n",
        "df['DIST_TO_SF'] = np.sqrt((df['LATITUDE'] - sf_lat)**2 + (df['LONGITUDE'] - sf_lon)**2)\n",
        "\n",
        "# 2. Create a feature for the number of facilities in the same county\n",
        "county_facility_count = df['COUNTY_NAME'].value_counts().to_dict()\n",
        "df['COUNTY_FACILITY_COUNT'] = df['COUNTY_NAME'].map(county_facility_count)\n",
        "\n",
        "# 3. Create a feature for the average capacity in the same county\n",
        "county_avg_capacity = df.groupby('COUNTY_NAME')['CAPACITY'].transform('mean')\n",
        "df['COUNTY_AVG_CAPACITY'] = county_avg_capacity\n",
        "\n",
        "# 4. (Optional) Create a feature for the population density in the county\n",
        "# Uncomment and modify the following line if you have population and area data\n",
        "# df['POP_DENSITY'] = df['POPULATION'] / df['AREA']\n",
        "\n",
        "# 5. Create a feature for the distance to the nearest facility\n",
        "coords = df[['LATITUDE', 'LONGITUDE']].values\n",
        "dist_matrix = distance_matrix(coords, coords)\n",
        "\n",
        "# Set the diagonal to a large number (or np.inf)\n",
        "np.fill_diagonal(dist_matrix, np.inf)\n",
        "\n",
        "# Now calculate the minimum distance to other facilities\n",
        "min_dist_to_other_facilities = np.min(dist_matrix, axis=1)\n",
        "df['MIN_DIST_TO_OTHER_FACILITIES'] = min_dist_to_other_facilities\n",
        "\n",
        "# 6. Create a feature for the type of facility (one-hot encoding)\n",
        "df['FAC_TYPE_CODE'] = df['FAC_TYPE_CODE'].astype('category')\n",
        "df = pd.get_dummies(df, columns=['FAC_TYPE_CODE'], drop_first=True)\n",
        "\n",
        "# Display the dataset with new features\n",
        "print(df.head())"
      ],
      "metadata": {
        "colab": {
          "base_uri": "https://localhost:8080/"
        },
        "id": "c8c-0e5GuTzz",
        "outputId": "0b77d6f1-67c2-4848-ae51-85effed997fa"
      },
      "execution_count": 63,
      "outputs": [
        {
          "output_type": "stream",
          "name": "stdout",
          "text": [
            "   LATITUDE  LONGITUDE    COUNTY_NAME  CAPACITY  DIST_TO_SF  \\\n",
            "0   37.7749  -122.4194  San Francisco       100    0.000000   \n",
            "1   37.7849  -122.4094  San Francisco       150    0.014142   \n",
            "2   37.7949  -122.3994      San Mateo       200    0.028284   \n",
            "\n",
            "   COUNTY_FACILITY_COUNT  COUNTY_AVG_CAPACITY  MIN_DIST_TO_OTHER_FACILITIES  \\\n",
            "0                      2                125.0                      0.014142   \n",
            "1                      2                125.0                      0.014142   \n",
            "2                      1                200.0                      0.014142   \n",
            "\n",
            "   FAC_TYPE_CODE_Type2  \n",
            "0                False  \n",
            "1                 True  \n",
            "2                False  \n"
          ]
        }
      ]
    },
    {
      "cell_type": "markdown",
      "source": [
        "Step 2: Exploratory Data Analysis (EDA)"
      ],
      "metadata": {
        "id": "AgW8RatBPZFy"
      }
    },
    {
      "cell_type": "code",
      "source": [
        "import matplotlib.pyplot as plt\n",
        "import seaborn as sns\n",
        "\n",
        "# Plot the distribution of facility types\n",
        "sns.countplot(x='FAC_TYPE_CODE_Type2', data=df)\n",
        "plt.title('Distribution of Facility Types')\n",
        "plt.show()\n",
        "\n",
        "# This plot shows the count of each facility type. The x-axis represents the facility types, and the y-axis represents the count.\n",
        "\n",
        "# Plot the distribution of capacities\n",
        "sns.histplot(df['CAPACITY'], bins=30)\n",
        "plt.title('Distribution of Facility Capacities')\n",
        "plt.show()\n",
        "\n",
        "# This plot shows the distribution of facility capacities. The x-axis represents the capacity values, and the y-axis represents the frequency or count of each capacity value.\n",
        "\n",
        "# Plot the geographical distribution of facilities\n",
        "plt.figure(figsize=(10, 8))\n",
        "sns.scatterplot(x='LONGITUDE', y='LATITUDE', hue='CAPACITY', data=df)\n",
        "plt.title('Geographical Distribution of Facilities')\n",
        "plt.show()\n",
        "\n",
        "# This plot shows the geographical distribution of facilities on a 2D map. The x-axis represents the longitude, and the y-axis represents the latitude. The hue (color) of each point represents the capacity of the facility."
      ],
      "metadata": {
        "id": "qf0MZM0ou4Iz",
        "colab": {
          "base_uri": "https://localhost:8080/",
          "height": 1000
        },
        "outputId": "5bc14d01-e72f-4492-8a9a-223e469fe6a1"
      },
      "execution_count": 64,
      "outputs": [
        {
          "output_type": "display_data",
          "data": {
            "text/plain": [
              "<Figure size 640x480 with 1 Axes>"
            ],
            "image/png": "[encoded data removed]"
          },
          "metadata": {}
        },
        {
          "output_type": "display_data",
          "data": {
            "text/plain": [
              "<Figure size 640x480 with 1 Axes>"
            ],
            "image/png": "[encoded data removed]"
          },
          "metadata": {}
        },
        {
          "output_type": "display_data",
          "data": {
            "text/plain": [
              "<Figure size 1000x800 with 1 Axes>"
            ],
            "image/png": "[encoded data removed]"
          },
          "metadata": {}
        }
      ]
    },
    {
      "cell_type": "markdown",
      "source": [
        "Step 3: Model Building"
      ],
      "metadata": {
        "id": "lVbAjaesREbU"
      }
    },
    {
      "cell_type": "code",
      "source": [
        "from sklearn.model_selection import train_test_split\n",
        "from sklearn.ensemble import RandomForestRegressor, GradientBoostingRegressor\n",
        "from xgboost import XGBRegressor\n",
        "from sklearn.metrics import mean_squared_error, r2_score\n",
        "\n",
        "# Sample DataFrame creation (for demonstration purposes)\n",
        "data = {\n",
        "    'LATITUDE': [37.7749, 37.7849, 37.7949],\n",
        "    'LONGITUDE': [-122.4194, -122.4094, -122.3994],\n",
        "    'CAPACITY': [100, 150, 200],\n",
        "    'FAC_TYPE_CODE_Type1': [1, 0, 1],\n",
        "    'FAC_TYPE_CODE_Type2': [0, 1, 0],\n",
        "    # Add other features as necessary\n",
        "}\n",
        "df = pd.DataFrame(data)\n",
        "\n",
        "# Check the DataFrame columns\n",
        "print(\"DataFrame columns:\", df.columns)\n",
        "\n",
        "# Prepare the features and target variable\n",
        "# List of columns to drop\n",
        "columns_to_drop = [\n",
        "    'CAPACITY', 'FACNAME', 'ADDRESS', 'CITY', 'ZIP', 'COUNTY_NAME',\n",
        "    'DISTRICT_NUMBER', 'DISTRICT_NAME', 'ISFACMAIN', 'LICENSE_NUMBER',\n",
        "    'BUSINESS_NAME', 'INITIAL_LICENSE_DATE', 'LICENSE_EFFECTIVE_DATE',\n",
        "    'LICENSE_EXPIRATION_DATE', 'ENTITY_TYPE_DESCRIPTION', 'LOCATION',\n",
        "    'OSHPD_NUMBER', 'StreetNumber', 'StreetName', 'CCHLO_Code',\n",
        "    'CCLHO_Name', 'FIPS_Couunty_Code'\n",
        "]\n",
        "\n",
        "# Drop only the columns that exist in the DataFrame\n",
        "X = df.drop(columns=[col for col in columns_to_drop if col in df.columns])\n",
        "y = df['CAPACITY']  # Example: Predicting capacity as a proxy for accessibility\n",
        "\n",
        "# Split the data into training and testing sets\n",
        "X_train, X_test, y_train, y_test = train_test_split(X, y, test_size=0.2, random_state=42)\n",
        "\n",
        "# Initialize and train the Random Forest Regressor\n",
        "rf_model = RandomForestRegressor(n_estimators=100, random_state=42)\n",
        "rf_model.fit(X_train, y_train)\n",
        "\n",
        "# Initialize and train the Gradient Boosting Regressor\n",
        "gb_model = GradientBoostingRegressor(n_estimators=100, random_state=42)\n",
        "gb_model.fit(X_train, y_train)\n",
        "\n",
        "# Initialize and train the XGBoost Regressor\n",
        "xgb_model = XGBRegressor(n_estimators=100, random_state=42)\n",
        "xgb_model.fit(X_train, y_train)\n",
        "\n",
        "# Make predictions\n",
        "rf_y_pred = rf_model.predict(X_test)\n",
        "gb_y_pred = gb_model.predict(X_test)\n",
        "xgb_y_pred = xgb_model.predict(X_test)\n",
        "\n",
        "# Evaluate the models\n",
        "def evaluate_model(model_name, y_true, y_pred):\n",
        "    mse = mean_squared_error(y_true, y_pred)\n",
        "    r2 = r2_score(y_true, y_pred)\n",
        "    print(f'{model_name} - Mean Squared Error: {mse:.2f}')\n",
        "    print(f'{model_name} - R-squared: {r2:.2f}')\n",
        "\n",
        "evaluate_model('Random Forest', y_test, rf_y_pred)\n",
        "evaluate_model('Gradient Boosting', y_test, gb_y_pred)\n",
        "evaluate_model('XGBoost', y_test, xgb_y_pred)"
      ],
      "metadata": {
        "colab": {
          "base_uri": "https://localhost:8080/"
        },
        "id": "1Xb06jD6wQOL",
        "outputId": "000cce03-6e0a-4586-d417-b59318628352"
      },
      "execution_count": 65,
      "outputs": [
        {
          "output_type": "stream",
          "name": "stdout",
          "text": [
            "DataFrame columns: Index(['LATITUDE', 'LONGITUDE', 'CAPACITY', 'FAC_TYPE_CODE_Type1',\n",
            "       'FAC_TYPE_CODE_Type2'],\n",
            "      dtype='object')\n",
            "Random Forest - Mean Squared Error: 5256.25\n",
            "Random Forest - R-squared: nan\n",
            "Gradient Boosting - Mean Squared Error: 3970.17\n",
            "Gradient Boosting - R-squared: nan\n",
            "XGBoost - Mean Squared Error: 2500.09\n",
            "XGBoost - R-squared: nan\n"
          ]
        },
        {
          "output_type": "stream",
          "name": "stderr",
          "text": [
            "/usr/local/lib/python3.10/dist-packages/sklearn/metrics/_regression.py:1211: UndefinedMetricWarning: R^2 score is not well-defined with less than two samples.\n",
            "  warnings.warn(msg, UndefinedMetricWarning)\n",
            "/usr/local/lib/python3.10/dist-packages/sklearn/metrics/_regression.py:1211: UndefinedMetricWarning: R^2 score is not well-defined with less than two samples.\n",
            "  warnings.warn(msg, UndefinedMetricWarning)\n",
            "/usr/local/lib/python3.10/dist-packages/sklearn/metrics/_regression.py:1211: UndefinedMetricWarning: R^2 score is not well-defined with less than two samples.\n",
            "  warnings.warn(msg, UndefinedMetricWarning)\n"
          ]
        }
      ]
    },
    {
      "cell_type": "markdown",
      "source": [
        "1. Feature Importance Analysis"
      ],
      "metadata": {
        "id": "ZsmdtBA_VkyS"
      }
    },
    {
      "cell_type": "code",
      "source": [
        "from sklearn.ensemble import RandomForestClassifier  # or RandomForestRegressor\n",
        "from sklearn.model_selection import train_test_split\n",
        "\n",
        "# Example data preparation (replace this with your actual data)\n",
        "# X = pd.DataFrame(...)  # Your feature set\n",
        "# y = pd.Series(...)     # Your target variable\n",
        "\n",
        "# Split the data into training and testing sets\n",
        "X_train, X_test, y_train, y_test = train_test_split(X, y, test_size=0.2, random_state=42)\n",
        "\n",
        "# Train a Random Forest model\n",
        "rf_model = RandomForestClassifier()  # or RandomForestRegressor()\n",
        "rf_model.fit(X_train, y_train)\n",
        "\n",
        "# Feature importance for Random Forest\n",
        "feature_importances = rf_model.feature_importances_\n",
        "feature_names = X.columns\n",
        "\n",
        "# Plot feature importance\n",
        "plt.figure(figsize=(10, 6))\n",
        "sns.barplot(x=feature_importances, y=feature_names)\n",
        "plt.title('Feature Importance for Random Forest')\n",
        "plt.xlabel('Importance Score')\n",
        "plt.ylabel('Features')\n",
        "plt.show()"
      ],
      "metadata": {
        "colab": {
          "base_uri": "https://localhost:8080/",
          "height": 564
        },
        "id": "zQoak1YtxDjC",
        "outputId": "ca3b3a01-53ad-4419-c472-a16775d9d2d9"
      },
      "execution_count": 66,
      "outputs": [
        {
          "output_type": "display_data",
          "data": {
            "text/plain": [
              "<Figure size 1000x600 with 1 Axes>"
            ],
            "image/png": "[encoded data removed]"
          },
          "metadata": {}
        }
      ]
    },
    {
      "cell_type": "markdown",
      "source": [
        "2. Hyperparameter Tuning"
      ],
      "metadata": {
        "id": "_k58-XVfWadi"
      }
    },
    {
      "cell_type": "code",
      "source": [
        "from sklearn.model_selection import train_test_split, GridSearchCV\n",
        "from sklearn.ensemble import RandomForestRegressor\n",
        "from sklearn.metrics import mean_squared_error, r2_score\n",
        "\n",
        "# Example data preparation (replace this with your actual data)\n",
        "# X = pd.DataFrame(...)  # Your feature set\n",
        "# y = pd.Series(...)     # Your target variable\n",
        "\n",
        "# Check the size of your dataset\n",
        "print(f\"Total samples: {len(y)}\")\n",
        "\n",
        "# Split the data into training and testing sets with a smaller test size\n",
        "X_train, X_test, y_train, y_test = train_test_split(X, y, test_size=0.33, random_state=42)  # Adjust test_size as needed\n",
        "\n",
        "# Check the sizes of the training and testing sets\n",
        "print(f\"Training set size: {X_train.shape[0]}\")\n",
        "print(f\"Testing set size: {X_test.shape[0]}\")\n",
        "\n",
        "# Hyperparameter tuning for Random Forest\n",
        "param_grid = {\n",
        "    'n_estimators': [100, 200, 300],\n",
        "    'max_depth': [None, 10, 20, 30],\n",
        "    'min_samples_split': [2, 5, 10]\n",
        "}\n",
        "\n",
        "# Reduce the number of folds to 2\n",
        "grid_search = GridSearchCV(estimator=RandomForestRegressor(random_state=42),\n",
        "                           param_grid=param_grid,\n",
        "                           cv=2,  # Reduced number of folds\n",
        "                           scoring='neg_mean_squared_error')\n",
        "grid_search.fit(X_train, y_train)\n",
        "\n",
        "# Best model from grid search\n",
        "best_rf_model = grid_search.best_estimator_\n",
        "best_rf_y_pred = best_rf_model.predict(X_test)\n",
        "\n",
        "# Function to evaluate the model\n",
        "def evaluate_model(model_name, y_true, y_pred):\n",
        "    mse = mean_squared_error(y_true, y_pred)\n",
        "    r2 = r2_score(y_true, y_pred)\n",
        "    print(f\"{model_name} Performance:\")\n",
        "    print(f\"Mean Squared Error: {mse:.2f}\")\n",
        "    print(f\"R^2 Score: {r2:.2f}\")\n",
        "\n",
        "# Evaluate the best Random Forest model\n",
        "evaluate_model('Best Random Forest', y_test, best_rf_y_pred)"
      ],
      "metadata": {
        "colab": {
          "base_uri": "https://localhost:8080/"
        },
        "id": "QH_BxeZe0sY3",
        "outputId": "70cf47ca-9c3a-4e85-cc22-87dd43cc2438"
      },
      "execution_count": 67,
      "outputs": [
        {
          "output_type": "stream",
          "name": "stdout",
          "text": [
            "Total samples: 3\n",
            "Training set size: 2\n",
            "Testing set size: 1\n",
            "Best Random Forest Performance:\n",
            "Mean Squared Error: 5256.25\n",
            "R^2 Score: nan\n"
          ]
        },
        {
          "output_type": "stream",
          "name": "stderr",
          "text": [
            "/usr/local/lib/python3.10/dist-packages/sklearn/metrics/_regression.py:1211: UndefinedMetricWarning: R^2 score is not well-defined with less than two samples.\n",
            "  warnings.warn(msg, UndefinedMetricWarning)\n"
          ]
        }
      ]
    },
    {
      "cell_type": "markdown",
      "source": [
        "3. Cross-Validation"
      ],
      "metadata": {
        "id": "eFcmW1YIX5W8"
      }
    },
    {
      "cell_type": "code",
      "source": [
        "from sklearn.model_selection import LeaveOneOut\n",
        "\n",
        "loo = LeaveOneOut()\n",
        "cv_scores = cross_val_score(rf_model, X, y, cv=loo, scoring='neg_mean_squared_error')\n",
        "print(f'Cross-Validation MSE: {-cv_scores.mean()}')"
      ],
      "metadata": {
        "colab": {
          "base_uri": "https://localhost:8080/"
        },
        "id": "5Al7wp7X2Pu_",
        "outputId": "701bdcee-1597-4e3b-f307-9ad9b8a147da"
      },
      "execution_count": 68,
      "outputs": [
        {
          "output_type": "stream",
          "name": "stdout",
          "text": [
            "Cross-Validation MSE: 2500.0\n"
          ]
        }
      ]
    },
    {
      "cell_type": "markdown",
      "source": [
        "4. Ensemble Methods"
      ],
      "metadata": {
        "id": "oB_5Q06bZVu0"
      }
    },
    {
      "cell_type": "code",
      "source": [
        "import numpy as np\n",
        "from sklearn.ensemble import VotingRegressor\n",
        "from sklearn.ensemble import RandomForestRegressor, GradientBoostingRegressor\n",
        "from xgboost import XGBRegressor\n",
        "from sklearn.metrics import mean_squared_error, r2_score\n",
        "\n",
        "# Sample models\n",
        "rf_model = RandomForestRegressor()\n",
        "gb_model = GradientBoostingRegressor()\n",
        "xgb_model = XGBRegressor()\n",
        "\n",
        "# Ensemble of models\n",
        "ensemble_model = VotingRegressor(estimators=[\n",
        "    ('rf', rf_model),\n",
        "    ('gb', gb_model),\n",
        "    ('xgb', xgb_model)\n",
        "])\n",
        "\n",
        "# Fit the ensemble model\n",
        "ensemble_model.fit(X_train, y_train)\n",
        "\n",
        "# Make predictions\n",
        "ensemble_y_pred = ensemble_model.predict(X_test)\n",
        "\n",
        "# Function to evaluate the model\n",
        "def evaluate_model(model_name, y_true, y_pred):\n",
        "    mse = mean_squared_error(y_true, y_pred)\n",
        "    r2 = r2_score(y_true, y_pred)\n",
        "    print(f\"{model_name} - Mean Squared Error: {mse:.4f}, R^2 Score: {r2:.4f}\")\n",
        "\n",
        "# Evaluate the ensemble model\n",
        "evaluate_model('Ensemble Model', y_test, ensemble_y_pred)"
      ],
      "metadata": {
        "colab": {
          "base_uri": "https://localhost:8080/"
        },
        "id": "71MFyQ22VJqO",
        "outputId": "a3b49d02-86f9-4d12-c727-017d7636e3e0"
      },
      "execution_count": 69,
      "outputs": [
        {
          "output_type": "stream",
          "name": "stdout",
          "text": [
            "Ensemble Model - Mean Squared Error: 4595.5828, R^2 Score: nan\n"
          ]
        },
        {
          "output_type": "stream",
          "name": "stderr",
          "text": [
            "/usr/local/lib/python3.10/dist-packages/sklearn/metrics/_regression.py:1211: UndefinedMetricWarning: R^2 score is not well-defined with less than two samples.\n",
            "  warnings.warn(msg, UndefinedMetricWarning)\n"
          ]
        }
      ]
    },
    {
      "cell_type": "markdown",
      "source": [
        "6. Geospatial Analysis"
      ],
      "metadata": {
        "id": "QUWWetL-arki"
      }
    },
    {
      "cell_type": "code",
      "source": [
        "import geopandas as gpd\n",
        "from shapely.geometry import Point\n",
        "\n",
        "# Convert DataFrame to GeoDataFrame\n",
        "geometry = [Point(xy) for xy in zip(df['LONGITUDE'], df['LATITUDE'])]\n",
        "gdf = gpd.GeoDataFrame(df, geometry=geometry)\n",
        "\n",
        "# Plot the GeoDataFrame\n",
        "gdf.plot(column='CAPACITY', legend=True, figsize=(10, 8))\n",
        "plt.title('Geospatial Distribution of Facility Capacities')\n",
        "plt.show()"
      ],
      "metadata": {
        "colab": {
          "base_uri": "https://localhost:8080/",
          "height": 699
        },
        "id": "Pfv4U3E5V2nM",
        "outputId": "999dd55f-c341-427b-b9d1-2568c111896a"
      },
      "execution_count": 70,
      "outputs": [
        {
          "output_type": "display_data",
          "data": {
            "text/plain": [
              "<Figure size 1000x800 with 2 Axes>"
            ],
            "image/png": "[encoded data removed]"
          },
          "metadata": {}
        }
      ]
    },
    {
      "cell_type": "markdown",
      "source": [
        "Step 4: Visualization with deck.gl and kepler.gl\n",
        "Using deck.gl"
      ],
      "metadata": {
        "id": "KBxzEO5rbYaC"
      }
    },
    {
      "cell_type": "code",
      "source": [
        "!pip install pydeck"
      ],
      "metadata": {
        "colab": {
          "base_uri": "https://localhost:8080/"
        },
        "id": "qz4vOJV-b_Ej",
        "outputId": "615de272-ae67-4280-9901-730ae51713ff"
      },
      "execution_count": 71,
      "outputs": [
        {
          "output_type": "stream",
          "name": "stdout",
          "text": [
            "Requirement already satisfied: pydeck in /usr/local/lib/python3.10/dist-packages (0.9.1)\n",
            "Requirement already satisfied: jinja2>=2.10.1 in /usr/local/lib/python3.10/dist-packages (from pydeck) (3.1.4)\n",
            "Requirement already satisfied: numpy>=1.16.4 in /usr/local/lib/python3.10/dist-packages (from pydeck) (1.26.4)\n",
            "Requirement already satisfied: MarkupSafe>=2.0 in /usr/local/lib/python3.10/dist-packages (from jinja2>=2.10.1->pydeck) (3.0.2)\n"
          ]
        }
      ]
    },
    {
      "cell_type": "code",
      "source": [
        "import pydeck as pdk\n",
        "\n",
        "# Define the deck.gl layer\n",
        "layer = pdk.Layer(\n",
        "    'ScatterplotLayer',\n",
        "    data=df,\n",
        "    get_position='[LONGITUDE, LATITUDE]',\n",
        "    get_radius=1000,\n",
        "    get_fill_color=[255, 140, 0],\n",
        "    pickable=True,\n",
        "    auto_highlight=True\n",
        ")\n",
        "\n",
        "# Define the view state\n",
        "view_state = pdk.ViewState(\n",
        "    latitude=sf_lat,\n",
        "    longitude=sf_lon,\n",
        "    zoom=8,\n",
        "    pitch=0\n",
        ")\n",
        "\n",
        "# Create the deck.gl map\n",
        "r = pdk.Deck(layers=[layer], initial_view_state=view_state)\n",
        "r.to_html('healthcare_facilities.html')"
      ],
      "metadata": {
        "id": "n4gVFfjJW-tD",
        "colab": {
          "base_uri": "https://localhost:8080/",
          "height": 500
        },
        "outputId": "2f27a708-d918-4eba-c378-d6ebed4cd1c6"
      },
      "execution_count": 72,
      "outputs": [
        {
          "output_type": "display_data",
          "data": {
            "text/plain": [
              "<IPython.core.display.Javascript object>"
            ],
            "application/javascript": [
              "google.colab.output.setIframeHeight(500, true, {minHeight: 500, maxHeight: 500})"
            ]
          },
          "metadata": {}
        },
        {
          "output_type": "display_data",
          "data": {
            "text/plain": [
              "<IPython.core.display.HTML object>"
            ],
            "text/html": [
              "<!DOCTYPE html>\n",
              "<html>\n",
              "  <head>\n",
              "    <meta http-equiv=\"content-type\" content=\"text/html; charset=UTF-8\" />\n",
              "    <title>pydeck</title>\n",
              "        <script src=\"https://api.tiles.mapbox.com/mapbox-gl-js/v1.13.0/mapbox-gl.js\"></script>\n",
              "        <link rel=\"stylesheet\" href=\"https://maxcdn.bootstrapcdn.com/bootstrap/3.2.0/css/bootstrap-theme.min.css\" />\n",
              "    <link rel=\"stylesheet\" href=\"https://maxcdn.bootstrapcdn.com/font-awesome/4.6.3/css/font-awesome.min.css\" />\n",
              "    <script src='https://cdn.jsdelivr.net/npm/@deck.gl/jupyter-widget@~9.0.*/dist/index.js'></script>\n",
              "    <style>\n",
              "    body {\n",
              "  margin: 0;\n",
              "  padding: 0;\n",
              "  overflow: hidden;\n",
              "}\n",
              "\n",
              "#deck-container {\n",
              "  width: 100vw;\n",
              "  height: 100vh;\n",
              "}\n",
              "\n",
              "#deck-container canvas {\n",
              "  z-index: 1;\n",
              "  background: none;\n",
              "}\n",
              "    </style>\n",
              "  </head>\n",
              "  <body>\n",
              "    <div id=\"deck-container\">\n",
              "    </div>\n",
              "  </body>\n",
              "  <script>\n",
              "    const container = document.getElementById('deck-container');\n",
              "    const jsonInput = {\n",
              "  \"initialViewState\": {\n",
              "    \"latitude\": 37.7749,\n",
              "    \"longitude\": -122.4194,\n",
              "    \"pitch\": 0,\n",
              "    \"zoom\": 8\n",
              "  },\n",
              "  \"layers\": [\n",
              "    {\n",
              "      \"@@type\": \"ScatterplotLayer\",\n",
              "      \"autoHighlight\": true,\n",
              "      \"data\": [\n",
              "        {\n",
              "          \"CAPACITY\": 100,\n",
              "          \"FAC_TYPE_CODE_Type1\": 1,\n",
              "          \"FAC_TYPE_CODE_Type2\": 0,\n",
              "          \"LATITUDE\": 37.7749,\n",
              "          \"LONGITUDE\": -122.4194\n",
              "        },\n",
              "        {\n",
              "          \"CAPACITY\": 150,\n",
              "          \"FAC_TYPE_CODE_Type1\": 0,\n",
              "          \"FAC_TYPE_CODE_Type2\": 1,\n",
              "          \"LATITUDE\": 37.7849,\n",
              "          \"LONGITUDE\": -122.4094\n",
              "        },\n",
              "        {\n",
              "          \"CAPACITY\": 200,\n",
              "          \"FAC_TYPE_CODE_Type1\": 1,\n",
              "          \"FAC_TYPE_CODE_Type2\": 0,\n",
              "          \"LATITUDE\": 37.7949,\n",
              "          \"LONGITUDE\": -122.3994\n",
              "        }\n",
              "      ],\n",
              "      \"getFillColor\": [\n",
              "        255,\n",
              "        140,\n",
              "        0\n",
              "      ],\n",
              "      \"getPosition\": \"@@=[LONGITUDE, LATITUDE]\",\n",
              "      \"getRadius\": 1000,\n",
              "      \"id\": \"0de73972-2206-456b-9429-8ad3d55fe22d\",\n",
              "      \"pickable\": true\n",
              "    }\n",
              "  ],\n",
              "  \"mapProvider\": \"carto\",\n",
              "  \"mapStyle\": \"https://basemaps.cartocdn.com/gl/dark-matter-gl-style/style.json\",\n",
              "  \"views\": [\n",
              "    {\n",
              "      \"@@type\": \"MapView\",\n",
              "      \"controller\": true\n",
              "    }\n",
              "  ]\n",
              "};\n",
              "    const tooltip = true;\n",
              "    const customLibraries = null;\n",
              "    const configuration = null;\n",
              "\n",
              "    const deckInstance = createDeck({\n",
              "                  container,\n",
              "      jsonInput,\n",
              "      tooltip,\n",
              "      customLibraries,\n",
              "      configuration\n",
              "    });\n",
              "\n",
              "  </script>\n",
              "</html>"
            ]
          },
          "metadata": {}
        }
      ]
    },
    {
      "cell_type": "markdown",
      "source": [
        "Using kepler.gl"
      ],
      "metadata": {
        "id": "dDlHRzdfcOby"
      }
    },
    {
      "cell_type": "code",
      "source": [
        "!pip install keplergl"
      ],
      "metadata": {
        "colab": {
          "base_uri": "https://localhost:8080/"
        },
        "id": "e5W0_BzQcbVf",
        "outputId": "d68511f7-2d06-4cd2-e86d-5f1cea4480b8"
      },
      "execution_count": 73,
      "outputs": [
        {
          "output_type": "stream",
          "name": "stdout",
          "text": [
            "Requirement already satisfied: keplergl in /usr/local/lib/python3.10/dist-packages (0.3.2)\n",
            "Requirement already satisfied: ipywidgets<8,>=7.0.0 in /usr/local/lib/python3.10/dist-packages (from keplergl) (7.7.1)\n",
            "Requirement already satisfied: traittypes>=0.2.1 in /usr/local/lib/python3.10/dist-packages (from keplergl) (0.2.1)\n",
            "Requirement already satisfied: geopandas>=0.5.0 in /usr/local/lib/python3.10/dist-packages (from keplergl) (1.0.1)\n",
            "Requirement already satisfied: pandas>=0.23.0 in /usr/local/lib/python3.10/dist-packages (from keplergl) (2.2.2)\n",
            "Requirement already satisfied: Shapely>=1.6.4.post2 in /usr/local/lib/python3.10/dist-packages (from keplergl) (2.0.6)\n",
            "Requirement already satisfied: numpy>=1.22 in /usr/local/lib/python3.10/dist-packages (from geopandas>=0.5.0->keplergl) (1.26.4)\n",
            "Requirement already satisfied: pyogrio>=0.7.2 in /usr/local/lib/python3.10/dist-packages (from geopandas>=0.5.0->keplergl) (0.10.0)\n",
            "Requirement already satisfied: packaging in /usr/local/lib/python3.10/dist-packages (from geopandas>=0.5.0->keplergl) (24.2)\n",
            "Requirement already satisfied: pyproj>=3.3.0 in /usr/local/lib/python3.10/dist-packages (from geopandas>=0.5.0->keplergl) (3.7.0)\n",
            "Requirement already satisfied: ipykernel>=4.5.1 in /usr/local/lib/python3.10/dist-packages (from ipywidgets<8,>=7.0.0->keplergl) (5.5.6)\n",
            "Requirement already satisfied: ipython-genutils~=0.2.0 in /usr/local/lib/python3.10/dist-packages (from ipywidgets<8,>=7.0.0->keplergl) (0.2.0)\n",
            "Requirement already satisfied: traitlets>=4.3.1 in /usr/local/lib/python3.10/dist-packages (from ipywidgets<8,>=7.0.0->keplergl) (5.7.1)\n",
            "Requirement already satisfied: widgetsnbextension~=3.6.0 in /usr/local/lib/python3.10/dist-packages (from ipywidgets<8,>=7.0.0->keplergl) (3.6.10)\n",
            "Requirement already satisfied: ipython>=4.0.0 in /usr/local/lib/python3.10/dist-packages (from ipywidgets<8,>=7.0.0->keplergl) (7.34.0)\n",
            "Requirement already satisfied: jupyterlab-widgets>=1.0.0 in /usr/local/lib/python3.10/dist-packages (from ipywidgets<8,>=7.0.0->keplergl) (3.0.13)\n",
            "Requirement already satisfied: python-dateutil>=2.8.2 in /usr/local/lib/python3.10/dist-packages (from pandas>=0.23.0->keplergl) (2.8.2)\n",
            "Requirement already satisfied: pytz>=2020.1 in /usr/local/lib/python3.10/dist-packages (from pandas>=0.23.0->keplergl) (2024.2)\n",
            "Requirement already satisfied: tzdata>=2022.7 in /usr/local/lib/python3.10/dist-packages (from pandas>=0.23.0->keplergl) (2024.2)\n",
            "Requirement already satisfied: jupyter-client in /usr/local/lib/python3.10/dist-packages (from ipykernel>=4.5.1->ipywidgets<8,>=7.0.0->keplergl) (6.1.12)\n",
            "Requirement already satisfied: tornado>=4.2 in /usr/local/lib/python3.10/dist-packages (from ipykernel>=4.5.1->ipywidgets<8,>=7.0.0->keplergl) (6.3.3)\n",
            "Requirement already satisfied: setuptools>=18.5 in /usr/local/lib/python3.10/dist-packages (from ipython>=4.0.0->ipywidgets<8,>=7.0.0->keplergl) (75.1.0)\n",
            "Requirement already satisfied: jedi>=0.16 in /usr/local/lib/python3.10/dist-packages (from ipython>=4.0.0->ipywidgets<8,>=7.0.0->keplergl) (0.19.2)\n",
            "Requirement already satisfied: decorator in /usr/local/lib/python3.10/dist-packages (from ipython>=4.0.0->ipywidgets<8,>=7.0.0->keplergl) (4.4.2)\n",
            "Requirement already satisfied: pickleshare in /usr/local/lib/python3.10/dist-packages (from ipython>=4.0.0->ipywidgets<8,>=7.0.0->keplergl) (0.7.5)\n",
            "Requirement already satisfied: prompt-toolkit!=3.0.0,!=3.0.1,<3.1.0,>=2.0.0 in /usr/local/lib/python3.10/dist-packages (from ipython>=4.0.0->ipywidgets<8,>=7.0.0->keplergl) (3.0.48)\n",
            "Requirement already satisfied: pygments in /usr/local/lib/python3.10/dist-packages (from ipython>=4.0.0->ipywidgets<8,>=7.0.0->keplergl) (2.18.0)\n",
            "Requirement already satisfied: backcall in /usr/local/lib/python3.10/dist-packages (from ipython>=4.0.0->ipywidgets<8,>=7.0.0->keplergl) (0.2.0)\n",
            "Requirement already satisfied: matplotlib-inline in /usr/local/lib/python3.10/dist-packages (from ipython>=4.0.0->ipywidgets<8,>=7.0.0->keplergl) (0.1.7)\n",
            "Requirement already satisfied: pexpect>4.3 in /usr/local/lib/python3.10/dist-packages (from ipython>=4.0.0->ipywidgets<8,>=7.0.0->keplergl) (4.9.0)\n",
            "Requirement already satisfied: certifi in /usr/local/lib/python3.10/dist-packages (from pyogrio>=0.7.2->geopandas>=0.5.0->keplergl) (2024.8.30)\n",
            "Requirement already satisfied: six>=1.5 in /usr/local/lib/python3.10/dist-packages (from python-dateutil>=2.8.2->pandas>=0.23.0->keplergl) (1.16.0)\n",
            "Requirement already satisfied: notebook>=4.4.1 in /usr/local/lib/python3.10/dist-packages (from widgetsnbextension~=3.6.0->ipywidgets<8,>=7.0.0->keplergl) (6.5.5)\n",
            "Requirement already satisfied: parso<0.9.0,>=0.8.4 in /usr/local/lib/python3.10/dist-packages (from jedi>=0.16->ipython>=4.0.0->ipywidgets<8,>=7.0.0->keplergl) (0.8.4)\n",
            "Requirement already satisfied: jinja2 in /usr/local/lib/python3.10/dist-packages (from notebook>=4.4.1->widgetsnbextension~=3.6.0->ipywidgets<8,>=7.0.0->keplergl) (3.1.4)\n",
            "Requirement already satisfied: pyzmq<25,>=17 in /usr/local/lib/python3.10/dist-packages (from notebook>=4.4.1->widgetsnbextension~=3.6.0->ipywidgets<8,>=7.0.0->keplergl) (24.0.1)\n",
            "Requirement already satisfied: argon2-cffi in /usr/local/lib/python3.10/dist-packages (from notebook>=4.4.1->widgetsnbextension~=3.6.0->ipywidgets<8,>=7.0.0->keplergl) (23.1.0)\n",
            "Requirement already satisfied: jupyter-core>=4.6.1 in /usr/local/lib/python3.10/dist-packages (from notebook>=4.4.1->widgetsnbextension~=3.6.0->ipywidgets<8,>=7.0.0->keplergl) (5.7.2)\n",
            "Requirement already satisfied: nbformat in /usr/local/lib/python3.10/dist-packages (from notebook>=4.4.1->widgetsnbextension~=3.6.0->ipywidgets<8,>=7.0.0->keplergl) (5.10.4)\n",
            "Requirement already satisfied: nbconvert>=5 in /usr/local/lib/python3.10/dist-packages (from notebook>=4.4.1->widgetsnbextension~=3.6.0->ipywidgets<8,>=7.0.0->keplergl) (7.16.4)\n",
            "Requirement already satisfied: nest-asyncio>=1.5 in /usr/local/lib/python3.10/dist-packages (from notebook>=4.4.1->widgetsnbextension~=3.6.0->ipywidgets<8,>=7.0.0->keplergl) (1.6.0)\n",
            "Requirement already satisfied: Send2Trash>=1.8.0 in /usr/local/lib/python3.10/dist-packages (from notebook>=4.4.1->widgetsnbextension~=3.6.0->ipywidgets<8,>=7.0.0->keplergl) (1.8.3)\n",
            "Requirement already satisfied: terminado>=0.8.3 in /usr/local/lib/python3.10/dist-packages (from notebook>=4.4.1->widgetsnbextension~=3.6.0->ipywidgets<8,>=7.0.0->keplergl) (0.18.1)\n",
            "Requirement already satisfied: prometheus-client in /usr/local/lib/python3.10/dist-packages (from notebook>=4.4.1->widgetsnbextension~=3.6.0->ipywidgets<8,>=7.0.0->keplergl) (0.21.0)\n",
            "Requirement already satisfied: nbclassic>=0.4.7 in /usr/local/lib/python3.10/dist-packages (from notebook>=4.4.1->widgetsnbextension~=3.6.0->ipywidgets<8,>=7.0.0->keplergl) (1.1.0)\n",
            "Requirement already satisfied: ptyprocess>=0.5 in /usr/local/lib/python3.10/dist-packages (from pexpect>4.3->ipython>=4.0.0->ipywidgets<8,>=7.0.0->keplergl) (0.7.0)\n",
            "Requirement already satisfied: wcwidth in /usr/local/lib/python3.10/dist-packages (from prompt-toolkit!=3.0.0,!=3.0.1,<3.1.0,>=2.0.0->ipython>=4.0.0->ipywidgets<8,>=7.0.0->keplergl) (0.2.13)\n",
            "Requirement already satisfied: platformdirs>=2.5 in /usr/local/lib/python3.10/dist-packages (from jupyter-core>=4.6.1->notebook>=4.4.1->widgetsnbextension~=3.6.0->ipywidgets<8,>=7.0.0->keplergl) (4.3.6)\n",
            "Requirement already satisfied: notebook-shim>=0.2.3 in /usr/local/lib/python3.10/dist-packages (from nbclassic>=0.4.7->notebook>=4.4.1->widgetsnbextension~=3.6.0->ipywidgets<8,>=7.0.0->keplergl) (0.2.4)\n",
            "Requirement already satisfied: beautifulsoup4 in /usr/local/lib/python3.10/dist-packages (from nbconvert>=5->notebook>=4.4.1->widgetsnbextension~=3.6.0->ipywidgets<8,>=7.0.0->keplergl) (4.12.3)\n",
            "Requirement already satisfied: bleach!=5.0.0 in /usr/local/lib/python3.10/dist-packages (from nbconvert>=5->notebook>=4.4.1->widgetsnbextension~=3.6.0->ipywidgets<8,>=7.0.0->keplergl) (6.2.0)\n",
            "Requirement already satisfied: defusedxml in /usr/local/lib/python3.10/dist-packages (from nbconvert>=5->notebook>=4.4.1->widgetsnbextension~=3.6.0->ipywidgets<8,>=7.0.0->keplergl) (0.7.1)\n",
            "Requirement already satisfied: jupyterlab-pygments in /usr/local/lib/python3.10/dist-packages (from nbconvert>=5->notebook>=4.4.1->widgetsnbextension~=3.6.0->ipywidgets<8,>=7.0.0->keplergl) (0.3.0)\n",
            "Requirement already satisfied: markupsafe>=2.0 in /usr/local/lib/python3.10/dist-packages (from nbconvert>=5->notebook>=4.4.1->widgetsnbextension~=3.6.0->ipywidgets<8,>=7.0.0->keplergl) (3.0.2)\n",
            "Requirement already satisfied: mistune<4,>=2.0.3 in /usr/local/lib/python3.10/dist-packages (from nbconvert>=5->notebook>=4.4.1->widgetsnbextension~=3.6.0->ipywidgets<8,>=7.0.0->keplergl) (3.0.2)\n",
            "Requirement already satisfied: nbclient>=0.5.0 in /usr/local/lib/python3.10/dist-packages (from nbconvert>=5->notebook>=4.4.1->widgetsnbextension~=3.6.0->ipywidgets<8,>=7.0.0->keplergl) (0.10.0)\n",
            "Requirement already satisfied: pandocfilters>=1.4.1 in /usr/local/lib/python3.10/dist-packages (from nbconvert>=5->notebook>=4.4.1->widgetsnbextension~=3.6.0->ipywidgets<8,>=7.0.0->keplergl) (1.5.1)\n",
            "Requirement already satisfied: tinycss2 in /usr/local/lib/python3.10/dist-packages (from nbconvert>=5->notebook>=4.4.1->widgetsnbextension~=3.6.0->ipywidgets<8,>=7.0.0->keplergl) (1.4.0)\n",
            "Requirement already satisfied: fastjsonschema>=2.15 in /usr/local/lib/python3.10/dist-packages (from nbformat->notebook>=4.4.1->widgetsnbextension~=3.6.0->ipywidgets<8,>=7.0.0->keplergl) (2.20.0)\n",
            "Requirement already satisfied: jsonschema>=2.6 in /usr/local/lib/python3.10/dist-packages (from nbformat->notebook>=4.4.1->widgetsnbextension~=3.6.0->ipywidgets<8,>=7.0.0->keplergl) (4.23.0)\n",
            "Requirement already satisfied: argon2-cffi-bindings in /usr/local/lib/python3.10/dist-packages (from argon2-cffi->notebook>=4.4.1->widgetsnbextension~=3.6.0->ipywidgets<8,>=7.0.0->keplergl) (21.2.0)\n",
            "Requirement already satisfied: webencodings in /usr/local/lib/python3.10/dist-packages (from bleach!=5.0.0->nbconvert>=5->notebook>=4.4.1->widgetsnbextension~=3.6.0->ipywidgets<8,>=7.0.0->keplergl) (0.5.1)\n",
            "Requirement already satisfied: attrs>=22.2.0 in /usr/local/lib/python3.10/dist-packages (from jsonschema>=2.6->nbformat->notebook>=4.4.1->widgetsnbextension~=3.6.0->ipywidgets<8,>=7.0.0->keplergl) (24.2.0)\n",
            "Requirement already satisfied: jsonschema-specifications>=2023.03.6 in /usr/local/lib/python3.10/dist-packages (from jsonschema>=2.6->nbformat->notebook>=4.4.1->widgetsnbextension~=3.6.0->ipywidgets<8,>=7.0.0->keplergl) (2024.10.1)\n",
            "Requirement already satisfied: referencing>=0.28.4 in /usr/local/lib/python3.10/dist-packages (from jsonschema>=2.6->nbformat->notebook>=4.4.1->widgetsnbextension~=3.6.0->ipywidgets<8,>=7.0.0->keplergl) (0.35.1)\n",
            "Requirement already satisfied: rpds-py>=0.7.1 in /usr/local/lib/python3.10/dist-packages (from jsonschema>=2.6->nbformat->notebook>=4.4.1->widgetsnbextension~=3.6.0->ipywidgets<8,>=7.0.0->keplergl) (0.21.0)\n",
            "Requirement already satisfied: jupyter-server<3,>=1.8 in /usr/local/lib/python3.10/dist-packages (from notebook-shim>=0.2.3->nbclassic>=0.4.7->notebook>=4.4.1->widgetsnbextension~=3.6.0->ipywidgets<8,>=7.0.0->keplergl) (1.24.0)\n",
            "Requirement already satisfied: cffi>=1.0.1 in /usr/local/lib/python3.10/dist-packages (from argon2-cffi-bindings->argon2-cffi->notebook>=4.4.1->widgetsnbextension~=3.6.0->ipywidgets<8,>=7.0.0->keplergl) (1.17.1)\n",
            "Requirement already satisfied: soupsieve>1.2 in /usr/local/lib/python3.10/dist-packages (from beautifulsoup4->nbconvert>=5->notebook>=4.4.1->widgetsnbextension~=3.6.0->ipywidgets<8,>=7.0.0->keplergl) (2.6)\n",
            "Requirement already satisfied: pycparser in /usr/local/lib/python3.10/dist-packages (from cffi>=1.0.1->argon2-cffi-bindings->argon2-cffi->notebook>=4.4.1->widgetsnbextension~=3.6.0->ipywidgets<8,>=7.0.0->keplergl) (2.22)\n",
            "Requirement already satisfied: anyio<4,>=3.1.0 in /usr/local/lib/python3.10/dist-packages (from jupyter-server<3,>=1.8->notebook-shim>=0.2.3->nbclassic>=0.4.7->notebook>=4.4.1->widgetsnbextension~=3.6.0->ipywidgets<8,>=7.0.0->keplergl) (3.7.1)\n",
            "Requirement already satisfied: websocket-client in /usr/local/lib/python3.10/dist-packages (from jupyter-server<3,>=1.8->notebook-shim>=0.2.3->nbclassic>=0.4.7->notebook>=4.4.1->widgetsnbextension~=3.6.0->ipywidgets<8,>=7.0.0->keplergl) (1.8.0)\n",
            "Requirement already satisfied: idna>=2.8 in /usr/local/lib/python3.10/dist-packages (from anyio<4,>=3.1.0->jupyter-server<3,>=1.8->notebook-shim>=0.2.3->nbclassic>=0.4.7->notebook>=4.4.1->widgetsnbextension~=3.6.0->ipywidgets<8,>=7.0.0->keplergl) (3.10)\n",
            "Requirement already satisfied: sniffio>=1.1 in /usr/local/lib/python3.10/dist-packages (from anyio<4,>=3.1.0->jupyter-server<3,>=1.8->notebook-shim>=0.2.3->nbclassic>=0.4.7->notebook>=4.4.1->widgetsnbextension~=3.6.0->ipywidgets<8,>=7.0.0->keplergl) (1.3.1)\n",
            "Requirement already satisfied: exceptiongroup in /usr/local/lib/python3.10/dist-packages (from anyio<4,>=3.1.0->jupyter-server<3,>=1.8->notebook-shim>=0.2.3->nbclassic>=0.4.7->notebook>=4.4.1->widgetsnbextension~=3.6.0->ipywidgets<8,>=7.0.0->keplergl) (1.2.2)\n"
          ]
        }
      ]
    },
    {
      "cell_type": "code",
      "source": [
        "import keplergl\n",
        "\n",
        "# Initialize Kepler.gl\n",
        "map_1 = keplergl.KeplerGl(height=800)\n",
        "\n",
        "# Add the data to the map\n",
        "map_1.add_data(data=df, name='Healthcare Facilities')\n",
        "\n",
        "# Save the map as an HTML file\n",
        "map_1.save_to_html(file_name='healthcare_facilities_kepler.html')\n",
        "\n",
        "map_1"
      ],
      "metadata": {
        "id": "svCE3CZ-GiJJ",
        "colab": {
          "base_uri": "https://localhost:8080/",
          "height": 52,
          "referenced_widgets": [
            "463a9987f68e461eae2cf56b933d70b3"
          ]
        },
        "outputId": "d8fc962d-0add-4e9a-c745-401385b5bc44"
      },
      "execution_count": 77,
      "outputs": [
        {
          "output_type": "stream",
          "name": "stdout",
          "text": [
            "User Guide: https://docs.kepler.gl/docs/keplergl-jupyter\n",
            "Map saved to healthcare_facilities_kepler.html!\n"
          ]
        },
        {
          "output_type": "display_data",
          "data": {
            "text/plain": [
              "KeplerGl(data={'Healthcare Facilities': {'index': [0, 1, 2], 'columns': ['LATITUDE', 'LONGITUDE', 'CAPACITY', …"
            ],
            "application/vnd.jupyter.widget-view+json": {
              "version_major": 2,
              "version_minor": 0,
              "model_id": "463a9987f68e461eae2cf56b933d70b3"
            }
          },
          "metadata": {}
        }
      ]
    }
  ]
}